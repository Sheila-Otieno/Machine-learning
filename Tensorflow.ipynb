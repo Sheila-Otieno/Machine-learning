{
  "nbformat": 4,
  "nbformat_minor": 0,
  "metadata": {
    "colab": {
      "name": "Tensorflow.ipynb",
      "provenance": [],
      "authorship_tag": "ABX9TyMzACpsGglKhbPJkIVrZv1L",
      "include_colab_link": true
    },
    "kernelspec": {
      "name": "python3",
      "display_name": "Python 3"
    },
    "language_info": {
      "name": "python"
    }
  },
  "cells": [
    {
      "cell_type": "markdown",
      "metadata": {
        "id": "view-in-github",
        "colab_type": "text"
      },
      "source": [
        "<a href=\"https://colab.research.google.com/github/Sheila-Otieno/Machine-learning/blob/main/Tensorflow.ipynb\" target=\"_parent\"><img src=\"https://colab.research.google.com/assets/colab-badge.svg\" alt=\"Open In Colab\"/></a>"
      ]
    },
    {
      "cell_type": "code",
      "metadata": {
        "id": "TdjMgP-XCEEd"
      },
      "source": [
        "import tensorflow as tf"
      ],
      "execution_count": null,
      "outputs": []
    },
    {
      "cell_type": "code",
      "metadata": {
        "colab": {
          "base_uri": "https://localhost:8080/"
        },
        "id": "4KKKZmlQCnmv",
        "outputId": "32ab6e66-f072-4108-ee23-8cb0fea1d373"
      },
      "source": [
        "data = tf.keras.datasets.fashion_mnist\n",
        "\n",
        "(training_images, training_labels), (test_images, test_labels) = data.load_data()\n",
        "\n",
        "training_images = training_images.reshape(60000, 28, 28, 1)\n",
        "training_images = training_images / 255.0\n",
        "test_images = test_images.reshape(10000, 28, 28, 1)\n",
        "test_images = test_images / 255.0\n"
      ],
      "execution_count": null,
      "outputs": [
        {
          "output_type": "stream",
          "name": "stdout",
          "text": [
            "Downloading data from https://storage.googleapis.com/tensorflow/tf-keras-datasets/train-labels-idx1-ubyte.gz\n",
            "32768/29515 [=================================] - 0s 0us/step\n",
            "40960/29515 [=========================================] - 0s 0us/step\n",
            "Downloading data from https://storage.googleapis.com/tensorflow/tf-keras-datasets/train-images-idx3-ubyte.gz\n",
            "26427392/26421880 [==============================] - 0s 0us/step\n",
            "26435584/26421880 [==============================] - 0s 0us/step\n",
            "Downloading data from https://storage.googleapis.com/tensorflow/tf-keras-datasets/t10k-labels-idx1-ubyte.gz\n",
            "16384/5148 [===============================================================================================] - 0s 0us/step\n",
            "Downloading data from https://storage.googleapis.com/tensorflow/tf-keras-datasets/t10k-images-idx3-ubyte.gz\n",
            "4423680/4422102 [==============================] - 0s 0us/step\n",
            "4431872/4422102 [==============================] - 0s 0us/step\n"
          ]
        }
      ]
    },
    {
      "cell_type": "code",
      "metadata": {
        "colab": {
          "base_uri": "https://localhost:8080/"
        },
        "id": "Xrb1nGnBCwbw",
        "outputId": "36b79abc-89b4-405d-859e-b448e5f49974"
      },
      "source": [
        "model = tf.keras.models.Sequential([\n",
        "      tf.keras.layers.Conv2D(64, (3, 3), activation='relu', \n",
        "                  input_shape=(28, 28, 1)),\n",
        "      tf.keras.layers.MaxPooling2D(2, 2),\n",
        "      tf.keras.layers.Conv2D(64, (3, 3), activation='relu'),\n",
        "      tf.keras.layers.MaxPooling2D(2,2),\n",
        "      tf.keras.layers.Flatten(),\n",
        "      tf.keras.layers.Dense(128, activation=tf.nn.relu),\n",
        "      tf.keras.layers.Dense(10, activation=tf.nn.softmax)\n",
        "    ])\n",
        "\n",
        "model.compile(optimizer='adam',\n",
        "       loss='sparse_categorical_crossentropy',\n",
        "       metrics=['accuracy'])\n",
        "\n",
        "model.fit(training_images, training_labels, epochs=50)\n",
        "\n",
        "model.evaluate(test_images, test_labels)\n",
        "\n",
        "classifications = model.predict(test_images)\n",
        "print(classifications[0])\n",
        "print(test_labels[0])"
      ],
      "execution_count": null,
      "outputs": [
        {
          "output_type": "stream",
          "name": "stdout",
          "text": [
            "Epoch 1/50\n",
            "1875/1875 [==============================] - 91s 48ms/step - loss: 0.4391 - accuracy: 0.8383\n",
            "Epoch 2/50\n",
            "1875/1875 [==============================] - 90s 48ms/step - loss: 0.2939 - accuracy: 0.8923\n",
            "Epoch 3/50\n",
            "1875/1875 [==============================] - 88s 47ms/step - loss: 0.2480 - accuracy: 0.9084\n",
            "Epoch 4/50\n",
            "1875/1875 [==============================] - 87s 47ms/step - loss: 0.2160 - accuracy: 0.9197\n",
            "Epoch 5/50\n",
            "1875/1875 [==============================] - 90s 48ms/step - loss: 0.1883 - accuracy: 0.9297\n",
            "Epoch 6/50\n",
            "1875/1875 [==============================] - 88s 47ms/step - loss: 0.1663 - accuracy: 0.9370\n",
            "Epoch 7/50\n",
            "1875/1875 [==============================] - 88s 47ms/step - loss: 0.1475 - accuracy: 0.9433\n",
            "Epoch 8/50\n",
            "1875/1875 [==============================] - 90s 48ms/step - loss: 0.1306 - accuracy: 0.9503\n",
            "Epoch 9/50\n",
            "1875/1875 [==============================] - 90s 48ms/step - loss: 0.1138 - accuracy: 0.9576\n",
            "Epoch 10/50\n",
            "1875/1875 [==============================] - 90s 48ms/step - loss: 0.1016 - accuracy: 0.9612\n",
            "Epoch 11/50\n",
            "1875/1875 [==============================] - 90s 48ms/step - loss: 0.0898 - accuracy: 0.9661\n",
            "Epoch 12/50\n",
            "1875/1875 [==============================] - 90s 48ms/step - loss: 0.0805 - accuracy: 0.9693\n",
            "Epoch 13/50\n",
            "1875/1875 [==============================] - 89s 47ms/step - loss: 0.0694 - accuracy: 0.9741\n",
            "Epoch 14/50\n",
            "1875/1875 [==============================] - 90s 48ms/step - loss: 0.0656 - accuracy: 0.9751\n",
            "Epoch 15/50\n",
            "1875/1875 [==============================] - 89s 47ms/step - loss: 0.0563 - accuracy: 0.9788\n",
            "Epoch 16/50\n",
            "1875/1875 [==============================] - 90s 48ms/step - loss: 0.0524 - accuracy: 0.9807\n",
            "Epoch 17/50\n",
            "1875/1875 [==============================] - 91s 49ms/step - loss: 0.0490 - accuracy: 0.9818\n",
            "Epoch 18/50\n",
            "1875/1875 [==============================] - 90s 48ms/step - loss: 0.0440 - accuracy: 0.9836\n",
            "Epoch 19/50\n",
            "1875/1875 [==============================] - 89s 48ms/step - loss: 0.0386 - accuracy: 0.9864\n",
            "Epoch 20/50\n",
            "1875/1875 [==============================] - 89s 48ms/step - loss: 0.0391 - accuracy: 0.9857\n",
            "Epoch 21/50\n",
            "1875/1875 [==============================] - 90s 48ms/step - loss: 0.0341 - accuracy: 0.9877\n",
            "Epoch 22/50\n",
            "1875/1875 [==============================] - 89s 47ms/step - loss: 0.0362 - accuracy: 0.9867\n",
            "Epoch 23/50\n",
            "1875/1875 [==============================] - 88s 47ms/step - loss: 0.0303 - accuracy: 0.9895\n",
            "Epoch 24/50\n",
            "1875/1875 [==============================] - 88s 47ms/step - loss: 0.0345 - accuracy: 0.9874\n",
            "Epoch 25/50\n",
            "1875/1875 [==============================] - 88s 47ms/step - loss: 0.0283 - accuracy: 0.9900\n",
            "Epoch 26/50\n",
            "1875/1875 [==============================] - 88s 47ms/step - loss: 0.0289 - accuracy: 0.9894\n",
            "Epoch 27/50\n",
            "1875/1875 [==============================] - 89s 47ms/step - loss: 0.0295 - accuracy: 0.9897\n",
            "Epoch 28/50\n",
            "1875/1875 [==============================] - 88s 47ms/step - loss: 0.0284 - accuracy: 0.9897\n",
            "Epoch 29/50\n",
            "1875/1875 [==============================] - 89s 48ms/step - loss: 0.0221 - accuracy: 0.9921\n",
            "Epoch 30/50\n",
            "1875/1875 [==============================] - 89s 47ms/step - loss: 0.0250 - accuracy: 0.9918\n",
            "Epoch 31/50\n",
            "1875/1875 [==============================] - 89s 47ms/step - loss: 0.0241 - accuracy: 0.9917\n",
            "Epoch 32/50\n",
            "1875/1875 [==============================] - 89s 48ms/step - loss: 0.0240 - accuracy: 0.9918\n",
            "Epoch 33/50\n",
            "1875/1875 [==============================] - 89s 48ms/step - loss: 0.0257 - accuracy: 0.9917\n",
            "Epoch 34/50\n",
            "1875/1875 [==============================] - 90s 48ms/step - loss: 0.0232 - accuracy: 0.9921\n",
            "Epoch 35/50\n",
            "1875/1875 [==============================] - 90s 48ms/step - loss: 0.0202 - accuracy: 0.9932\n",
            "Epoch 36/50\n",
            "1875/1875 [==============================] - 91s 48ms/step - loss: 0.0237 - accuracy: 0.9919\n",
            "Epoch 37/50\n",
            "1875/1875 [==============================] - 91s 48ms/step - loss: 0.0215 - accuracy: 0.9924\n",
            "Epoch 38/50\n",
            "1875/1875 [==============================] - 93s 50ms/step - loss: 0.0228 - accuracy: 0.9923\n",
            "Epoch 39/50\n",
            "1875/1875 [==============================] - 94s 50ms/step - loss: 0.0193 - accuracy: 0.9938\n",
            "Epoch 40/50\n",
            "1875/1875 [==============================] - 93s 50ms/step - loss: 0.0173 - accuracy: 0.9941\n",
            "Epoch 41/50\n",
            "1875/1875 [==============================] - 90s 48ms/step - loss: 0.0209 - accuracy: 0.9931\n",
            "Epoch 42/50\n",
            "1875/1875 [==============================] - 90s 48ms/step - loss: 0.0192 - accuracy: 0.9938\n",
            "Epoch 43/50\n",
            "1875/1875 [==============================] - 91s 48ms/step - loss: 0.0192 - accuracy: 0.9937\n",
            "Epoch 44/50\n",
            "1875/1875 [==============================] - 92s 49ms/step - loss: 0.0181 - accuracy: 0.9942\n",
            "Epoch 45/50\n",
            "1875/1875 [==============================] - 93s 50ms/step - loss: 0.0188 - accuracy: 0.9937\n",
            "Epoch 46/50\n",
            "1875/1875 [==============================] - 93s 50ms/step - loss: 0.0176 - accuracy: 0.9941\n",
            "Epoch 47/50\n",
            "1875/1875 [==============================] - 92s 49ms/step - loss: 0.0181 - accuracy: 0.9942\n",
            "Epoch 48/50\n",
            "1875/1875 [==============================] - 93s 50ms/step - loss: 0.0202 - accuracy: 0.9937\n",
            "Epoch 49/50\n",
            "1875/1875 [==============================] - 94s 50ms/step - loss: 0.0154 - accuracy: 0.9951\n",
            "Epoch 50/50\n",
            "1875/1875 [==============================] - 93s 50ms/step - loss: 0.0202 - accuracy: 0.9938\n",
            "313/313 [==============================] - 5s 14ms/step - loss: 0.8629 - accuracy: 0.9102\n",
            "[0.0000000e+00 0.0000000e+00 0.0000000e+00 0.0000000e+00 0.0000000e+00\n",
            " 2.0603242e-28 0.0000000e+00 1.0524963e-26 0.0000000e+00 1.0000000e+00]\n",
            "9\n"
          ]
        }
      ]
    },
    {
      "cell_type": "code",
      "metadata": {
        "id": "tsnso8PiedEK",
        "outputId": "f0769c3d-2584-4ead-f75b-ef59faaa7b9b",
        "colab": {
          "base_uri": "https://localhost:8080/"
        }
      },
      "source": [
        "model.summary()"
      ],
      "execution_count": null,
      "outputs": [
        {
          "output_type": "stream",
          "name": "stdout",
          "text": [
            "Model: \"sequential\"\n",
            "_________________________________________________________________\n",
            " Layer (type)                Output Shape              Param #   \n",
            "=================================================================\n",
            " conv2d (Conv2D)             (None, 26, 26, 64)        640       \n",
            "                                                                 \n",
            " max_pooling2d (MaxPooling2D  (None, 13, 13, 64)       0         \n",
            " )                                                               \n",
            "                                                                 \n",
            " conv2d_1 (Conv2D)           (None, 11, 11, 64)        36928     \n",
            "                                                                 \n",
            " max_pooling2d_1 (MaxPooling  (None, 5, 5, 64)         0         \n",
            " 2D)                                                             \n",
            "                                                                 \n",
            " flatten (Flatten)           (None, 1600)              0         \n",
            "                                                                 \n",
            " dense (Dense)               (None, 128)               204928    \n",
            "                                                                 \n",
            " dense_1 (Dense)             (None, 10)                1290      \n",
            "                                                                 \n",
            "=================================================================\n",
            "Total params: 243,786\n",
            "Trainable params: 243,786\n",
            "Non-trainable params: 0\n",
            "_________________________________________________________________\n"
          ]
        }
      ]
    }
  ]
}